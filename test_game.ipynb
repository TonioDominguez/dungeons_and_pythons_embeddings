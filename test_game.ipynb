{
 "cells": [
  {
   "cell_type": "code",
   "execution_count": 1,
   "id": "ebcbb71f-65c6-4baa-8f5e-223cb974a9e2",
   "metadata": {},
   "outputs": [
    {
     "name": "stderr",
     "output_type": "stream",
     "text": [
      "C:\\ProgramData\\anaconda3\\envs\\dnp\\Lib\\site-packages\\sentence_transformers\\cross_encoder\\CrossEncoder.py:13: TqdmExperimentalWarning: Using `tqdm.autonotebook.tqdm` in notebook mode. Use `tqdm.tqdm` instead to force console mode (e.g. in jupyter console)\n",
      "  from tqdm.autonotebook import tqdm, trange\n"
     ]
    }
   ],
   "source": [
    "import pandas as pd\n",
    "import numpy as np\n",
    "from sentence_transformers import SentenceTransformer\n",
    "\n",
    "from initial_functions import *\n",
    "from scene_function import scenes_responses\n",
    "\n",
    "pd.set_option('display.max_columns', None) # display all columns\n",
    "import warnings\n",
    "warnings.filterwarnings('ignore')"
   ]
  },
  {
   "cell_type": "markdown",
   "id": "839f81ce-1050-4c2b-bd70-bc41e37005c3",
   "metadata": {},
   "source": [
    "#### character set up "
   ]
  },
  {
   "cell_type": "code",
   "execution_count": 2,
   "id": "3d30c35d-eca7-4ab7-a093-4169c6c833b3",
   "metadata": {
    "tags": []
   },
   "outputs": [
    {
     "name": "stdin",
     "output_type": "stream",
     "text": [
      "¿Cuál es tu nombre?:  Ragnar\n",
      "Elige tu raza: human@, elf@, enan@:  elfo\n",
      "Elige tu profesión: guerrer@, hechicer@, pícar@:  hechicero\n"
     ]
    }
   ],
   "source": [
    "name = get_name()\n",
    "race = get_race(races)\n",
    "profession = get_profession(professions)\n",
    "weapon = get_weapon(profession)"
   ]
  },
  {
   "cell_type": "markdown",
   "id": "ffd425b2-e9f3-4652-98ae-cafe4b6077c0",
   "metadata": {},
   "source": [
    "#### character build and sheet"
   ]
  },
  {
   "cell_type": "code",
   "execution_count": 3,
   "id": "cbc6a15f-26f2-4a3f-8b2a-059dc22e3f6f",
   "metadata": {
    "tags": []
   },
   "outputs": [],
   "source": [
    "character = {\"Nombre\":name, \n",
    "             \"Raza\":race,\n",
    "             \"Profesión\":profession,\n",
    "             \"Arma\":weapon\n",
    "            }"
   ]
  },
  {
   "cell_type": "code",
   "execution_count": 4,
   "id": "dba57749-32f5-4362-921b-72f872633598",
   "metadata": {
    "tags": []
   },
   "outputs": [],
   "source": [
    "c_sheet = pd.DataFrame([character])"
   ]
  },
  {
   "cell_type": "code",
   "execution_count": 5,
   "id": "7cc13edd-6d3c-4a71-9ae4-e6cef6e046a7",
   "metadata": {
    "tags": []
   },
   "outputs": [
    {
     "name": "stdout",
     "output_type": "stream",
     "text": [
      " \n",
      "Te llaman Ragnar, tejedor de los hilos mágicos del bosque. Tu conexión con la magia antigua es profunda y poderosa. Los espíritus de la naturaleza son tus aliados, y su sabiduría fluye a través de ti.\n",
      " \n",
      "El dragón puede dominar el fuego, pero la antigua magia del bosque responde a tu llamado...\n"
     ]
    }
   ],
   "source": [
    "presentation(c_sheet)"
   ]
  },
  {
   "cell_type": "markdown",
   "id": "94119c67-61b8-418f-af58-84bf16a4ea65",
   "metadata": {
    "tags": []
   },
   "source": [
    "#### trying game flow with text embeddings"
   ]
  },
  {
   "cell_type": "code",
   "execution_count": 6,
   "id": "8e49867b-3c08-422c-a21c-9651476e54ef",
   "metadata": {
    "tags": []
   },
   "outputs": [
    {
     "name": "stdout",
     "output_type": "stream",
     "text": [
      "\n",
      "La caza del dragón negro te lleva hacia una montaña, en donde según rumores se encuentra la guarida de la temible criatura. Para escalar a la cumbre, primero tendrás que atravesar un bosque que la rodea. Puede que de camino encuentres algo útil para tu enfrentamiento... ¿Qué haces?\n"
     ]
    },
    {
     "name": "stdin",
     "output_type": "stream",
     "text": [
      ">  buscar comida\n"
     ]
    },
    {
     "name": "stdout",
     "output_type": "stream",
     "text": [
      "\n",
      "Tu conexión con la magia antigua te atrae hacia un lago sagrado. Un artefacto élfico brilla con poder en su lecho\n",
      "\n",
      "¿Qué más quieres hacer?\n"
     ]
    },
    {
     "name": "stdin",
     "output_type": "stream",
     "text": [
      ">  nado hacia el\n"
     ]
    },
    {
     "name": "stdout",
     "output_type": "stream",
     "text": [
      "\n",
      "La magia antigua del lago te guía hacia un artefacto de inmenso poder. Al sostener el orbe arcano, las energías fluyen entre ambos, revelando su propósito: es un amplificador mágico diseñado para la destrucción de dragones. Tu victoria está ahora más cerca\n",
      "\n",
      "¿Qué más quieres hacer?\n"
     ]
    },
    {
     "name": "stdin",
     "output_type": "stream",
     "text": [
      ">  ir a por la victoria\n"
     ]
    },
    {
     "name": "stdout",
     "output_type": "stream",
     "text": [
      "\n",
      "La magia antigua del lago te guía hacia un artefacto de inmenso poder. Al sostener el orbe arcano, las energías fluyen entre ambos, revelando su propósito: es un amplificador mágico diseñado para la destrucción de dragones. Tu victoria está ahora más cerca\n",
      "\n",
      "¿Qué más quieres hacer?\n"
     ]
    },
    {
     "name": "stdin",
     "output_type": "stream",
     "text": [
      ">  ir a por el dragón\n"
     ]
    },
    {
     "name": "stdout",
     "output_type": "stream",
     "text": [
      "\n",
      "La magia antigua del lago te guía hacia un artefacto de inmenso poder. Al sostener el orbe arcano, las energías fluyen entre ambos, revelando su propósito: es un amplificador mágico diseñado para la destrucción de dragones. Tu victoria está ahora más cerca\n",
      "\n",
      "¿Qué más quieres hacer?\n"
     ]
    },
    {
     "name": "stdin",
     "output_type": "stream",
     "text": [
      ">  salir del bosque\n"
     ]
    },
    {
     "name": "stdout",
     "output_type": "stream",
     "text": [
      "\n",
      "Tu conexión con la magia antigua te revela un sendero élfico olvidado que asciende hacia la montaña. Las energías arcanas te indican que este camino te llevará directamente a la guarida del dragón\n",
      "\n",
      "Tras ascender por el sendero, llegas a la cima de la montaña. Ante ti se alza una inmensa cueva, y el suelo está cubierto de huesos calcinados. Un rugido estremecedor resuena desde el interior, y una enorme figura emerge entre las sombras. El dragón, con escamas como acero negro y ojos de fuego, se alza ante ti. ¿Qué haces?\n"
     ]
    },
    {
     "name": "stdin",
     "output_type": "stream",
     "text": [
      ">  luchar\n"
     ]
    },
    {
     "name": "stdout",
     "output_type": "stream",
     "text": [
      "\n",
      "Invocas tu antigua magia élfica con precisión. El dragón responde con un rugido ensordecedor y una llamarada que neutralizas con un encantamiento ancestral. Comprendes que ni siquiera la magia más antigua será suficiente por sí sola.\n",
      "\n",
      "¿Qué más quieres hacer?\n"
     ]
    },
    {
     "name": "stdin",
     "output_type": "stream",
     "text": [
      ">  utilizar el orbe\n"
     ]
    },
    {
     "name": "stdout",
     "output_type": "stream",
     "text": [
      "\n",
      "Tejes tu antigua magia élfica a través del orbe, creando un vínculo con poderes primordiales. La combinación de tu sabiduría arcana y el artefacto genera una cascada de energía que sobrepasa incluso la resistencia mágica del dragón.\n",
      "\n",
      "¡Lo has conseguido! El ancestral dragón negro, terror de las Montañas del Crepúsculo, ha caído ante tu determinación y coraje. Sus últimos rugidos resuenan entre los picos nevados mientras su cuerpo se desvanece en cenizas llevadas por el viento. Tu nombre será recordado en canciones y leyendas mientras existan estrellas en el cielo y viento en las montañas.\n"
     ]
    }
   ],
   "source": [
    "class GameEngine:\n",
    "    \n",
    "    def __init__(self):\n",
    "        self.model = SentenceTransformer('all-MiniLM-L6-v2')\n",
    "        self.character = None\n",
    "        self.scenes = {}\n",
    "        self.responses = {}\n",
    "        self.similarity_threshold = 0.3\n",
    "    \n",
    "    def set_character(self, c_sheet):\n",
    "        self.character = c_sheet\n",
    "    \n",
    "    def add_scene(self, scene_id, scene_text, context=None, required_race=None, required_profession=None):      \n",
    "        self.scenes[scene_id] = {\n",
    "            'text': scene_text,\n",
    "            'context': context,\n",
    "            'required_race': required_race,\n",
    "            'required_profession': required_profession,\n",
    "            'embedding': self.model.encode(scene_text)\n",
    "        }     \n",
    "        if scene_id not in self.responses:\n",
    "            self.responses[scene_id] = []\n",
    "    \n",
    "    def add_response(self, scene_id, input_patterns, response_text, race_mod=None, profession_mod=None):\n",
    "        \n",
    "        if isinstance(input_patterns, str):\n",
    "            input_patterns = [input_patterns]\n",
    "        \n",
    "        response = {\n",
    "            'pattern': input_patterns,\n",
    "            'text': response_text,\n",
    "            'race_modifier': race_mod,\n",
    "            'profession_modifier': profession_mod,\n",
    "            'embeddings': [self.model.encode(pattern) for pattern in input_patterns]\n",
    "        }\n",
    "        self.responses[scene_id].append(response)\n",
    "        \n",
    "    def find_best_response(self, user_input, current_scene_id):\n",
    "      \n",
    "        if current_scene_id not in self.responses:\n",
    "            return \"No hay respuestas disponibles para esta escena.\"    \n",
    "        \n",
    "        user_embedding = self.model.encode(user_input)\n",
    "        #best_score = self.similarity_threshold\n",
    "        best_score = -1\n",
    "        best_response = None\n",
    "        \n",
    "        for response in self.responses[current_scene_id]:\n",
    "            similarities = [np.dot(user_embedding, pattern_embeding)\n",
    "                            for pattern_embeding in response['embeddings']]\n",
    "            max_similarity = max(similarities)\n",
    "            \n",
    "            if response['race_modifier'] == self.character['Raza'].iloc[0]:\n",
    "                max_similarity += 0.1\n",
    "            if response['profession_modifier'] == self.character['Profesión'].iloc[0]:\n",
    "                max_similarity += 0.1\n",
    "                \n",
    "            if max_similarity > best_score:\n",
    "                best_score = max_similarity\n",
    "                best_response = response\n",
    "            \n",
    "        #return best_response['text'] if best_response else \"No entiendo qué quieres hacer. Sé más específico.\"\n",
    "        if best_score >= 0.7:\n",
    "            return best_response[\"text\"]\n",
    "        else:\n",
    "            return \"Tu acción no está contemplada por ahora en el juego. Sé más específico\"\n",
    "            \n",
    "    \n",
    "    def load_scenes(self):\n",
    "        scenes_responses(self)\n",
    "        \n",
    "def play_game():\n",
    "    \n",
    "    game = GameEngine()\n",
    "    game.set_character(c_sheet)\n",
    "    game.load_scenes()\n",
    "    \n",
    "    current_scene_id = 1\n",
    "    \n",
    "    time.sleep(1.5)\n",
    "    print(\"\\n\" + game.scenes[current_scene_id]['text'])\n",
    "    \n",
    "    while True:\n",
    "        \n",
    "        user_input = input(\"> \").lower()\n",
    "      \n",
    "        if user_input == \"abandonar juego\":\n",
    "            time.sleep(1.5)\n",
    "            print (\"\\n\" + f'¡Vuelve pronto o nadie podrá detener al dragón!')\n",
    "            break\n",
    "          \n",
    "        response = game.find_best_response(user_input, current_scene_id)\n",
    "        print(\"\\n\" + response)\n",
    "        \n",
    "        if current_scene_id == 1 and \"dragón\" in response.lower():\n",
    "            current_scene_id = 2\n",
    "            time.sleep(1.5)\n",
    "            print(\"\\n\" + game.scenes[current_scene_id][\"text\"])\n",
    "            continue\n",
    "                \n",
    "        if current_scene_id == 2 and \"orbe\" in response.lower():\n",
    "            current_scene_id = 3\n",
    "            time.sleep(1.5)\n",
    "            print(\"\\n\" + game.scenes[current_scene_id][\"text\"])\n",
    "            break\n",
    "            \n",
    "        if current_scene_id == 2 and \"con tu muerte\" in response.lower():\n",
    "            current_scene_id = 4\n",
    "            time.sleep(1.5)\n",
    "            print(\"\\n\" + game.scenes[current_scene_id][\"text\"])\n",
    "            break\n",
    "            \n",
    "        time.sleep(1)\n",
    "        print(\"\\n¿Qué más quieres hacer?\")\n",
    "        \n",
    "\n",
    "if __name__ == \"__main__\":\n",
    "    play_game()"
   ]
  },
  {
   "cell_type": "code",
   "execution_count": null,
   "id": "4bc0925b-4c9e-4316-aeaf-62fcc29dabe5",
   "metadata": {},
   "outputs": [],
   "source": []
  },
  {
   "cell_type": "code",
   "execution_count": null,
   "id": "c4e51c55-f832-498d-b07d-44fe39f6c2cb",
   "metadata": {},
   "outputs": [],
   "source": []
  }
 ],
 "metadata": {
  "kernelspec": {
   "display_name": "Python (dnp)",
   "language": "python",
   "name": "dnp"
  },
  "language_info": {
   "codemirror_mode": {
    "name": "ipython",
    "version": 3
   },
   "file_extension": ".py",
   "mimetype": "text/x-python",
   "name": "python",
   "nbconvert_exporter": "python",
   "pygments_lexer": "ipython3",
   "version": "3.11.5"
  }
 },
 "nbformat": 4,
 "nbformat_minor": 5
}
