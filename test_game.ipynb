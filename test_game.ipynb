{
 "cells": [
  {
   "cell_type": "code",
   "execution_count": 1,
   "id": "ebcbb71f-65c6-4baa-8f5e-223cb974a9e2",
   "metadata": {},
   "outputs": [
    {
     "name": "stderr",
     "output_type": "stream",
     "text": [
      "C:\\ProgramData\\anaconda3\\envs\\dnp\\Lib\\site-packages\\sentence_transformers\\cross_encoder\\CrossEncoder.py:13: TqdmExperimentalWarning: Using `tqdm.autonotebook.tqdm` in notebook mode. Use `tqdm.tqdm` instead to force console mode (e.g. in jupyter console)\n",
      "  from tqdm.autonotebook import tqdm, trange\n"
     ]
    }
   ],
   "source": [
    "import pandas as pd\n",
    "import numpy as np\n",
    "from sentence_transformers import SentenceTransformer\n",
    "\n",
    "from initial_functions import *\n",
    "from scene_function import scenes_responses\n",
    "\n",
    "pd.set_option('display.max_columns', None) # display all columns\n",
    "import warnings\n",
    "warnings.filterwarnings('ignore')"
   ]
  },
  {
   "cell_type": "markdown",
   "id": "839f81ce-1050-4c2b-bd70-bc41e37005c3",
   "metadata": {},
   "source": [
    "#### character set up "
   ]
  },
  {
   "cell_type": "code",
   "execution_count": 2,
   "id": "3d30c35d-eca7-4ab7-a093-4169c6c833b3",
   "metadata": {
    "tags": []
   },
   "outputs": [
    {
     "name": "stdin",
     "output_type": "stream",
     "text": [
      "¿Cuál es tu nombre?:  Antonio\n",
      "Elige tu raza: human@, elf@, enan@:  Enano\n",
      "Elige tu profesión: guerrer@, hechicer@, pícar@:  Guerrero\n"
     ]
    }
   ],
   "source": [
    "name = get_name()\n",
    "race = get_race(races)\n",
    "profession = get_profession(professions)\n",
    "weapon = get_weapon(profession)"
   ]
  },
  {
   "cell_type": "markdown",
   "id": "ffd425b2-e9f3-4652-98ae-cafe4b6077c0",
   "metadata": {},
   "source": [
    "#### character build and sheet"
   ]
  },
  {
   "cell_type": "code",
   "execution_count": 3,
   "id": "cbc6a15f-26f2-4a3f-8b2a-059dc22e3f6f",
   "metadata": {
    "tags": []
   },
   "outputs": [],
   "source": [
    "character = {\"Nombre\":name, \n",
    "             \"Raza\":race,\n",
    "             \"Profesión\":profession,\n",
    "             \"Arma\":weapon\n",
    "            }"
   ]
  },
  {
   "cell_type": "code",
   "execution_count": 4,
   "id": "dba57749-32f5-4362-921b-72f872633598",
   "metadata": {
    "tags": []
   },
   "outputs": [],
   "source": [
    "c_sheet = pd.DataFrame([character])"
   ]
  },
  {
   "cell_type": "code",
   "execution_count": 5,
   "id": "7cc13edd-6d3c-4a71-9ae4-e6cef6e046a7",
   "metadata": {
    "tags": []
   },
   "outputs": [
    {
     "name": "stdout",
     "output_type": "stream",
     "text": [
      " \n",
      "Como Antonio, hijo de las montañas de hierro, tu arma ha probado la sangre de cientos de enemigos. El dragón es solo otro nombre en tu lista. Tu honor de guerrero enano y el orgullo de tu clan te guían en esta noble empresa.\n",
      " \n",
      "El dragón ha profanado las antiguas minas de tu pueblo, y tu hacha clama por venganza...\n"
     ]
    }
   ],
   "source": [
    "presentation(c_sheet)"
   ]
  },
  {
   "cell_type": "markdown",
   "id": "94119c67-61b8-418f-af58-84bf16a4ea65",
   "metadata": {
    "tags": []
   },
   "source": [
    "#### trying game flow with text embeddings"
   ]
  },
  {
   "cell_type": "code",
   "execution_count": null,
   "id": "d2cf3f5d-36d9-40e6-a270-e835765162e4",
   "metadata": {
    "tags": []
   },
   "outputs": [
    {
     "name": "stdout",
     "output_type": "stream",
     "text": [
      "\n",
      "Tu búsqueda del dragón te lleva hacia una montaña, morada de la criatura según los rumores. La puedes ver a lo lejos, pero antes debes atravesar el bosque que rodea la cumbre. Tendrás que atravesarlo. Quizás puedas encontrar algo útil por este sendero para tu enfrentamiento. ¿Qué haces\n"
     ]
    },
    {
     "name": "stdin",
     "output_type": "stream",
     "text": [
      ">  ir con mi hacha a por el dragon \n"
     ]
    },
    {
     "name": "stdout",
     "output_type": "stream",
     "text": [
      "\n",
      "Desde la orilla, tu ojo experto en metales localiza exactamente dónde reposa el brazalete entre las rocas del fondo\n",
      "\n",
      "Tu búsqueda del dragón te lleva hacia una montaña, morada de la criatura según los rumores. La puedes ver a lo lejos, pero antes debes atravesar el bosque que rodea la cumbre. Tendrás que atravesarlo. Quizás puedas encontrar algo útil por este sendero para tu enfrentamiento. ¿Qué haces\n"
     ]
    },
    {
     "name": "stdin",
     "output_type": "stream",
     "text": [
      ">  quiero explorar el bosque\n"
     ]
    },
    {
     "name": "stdout",
     "output_type": "stream",
     "text": [
      "\n",
      "Tu experiencia en forja te hace reconocer el brillo metálico en el fondo del lago cristalino. Podría ser una reliquia enana\n",
      "\n",
      "Tu búsqueda del dragón te lleva hacia una montaña, morada de la criatura según los rumores. La puedes ver a lo lejos, pero antes debes atravesar el bosque que rodea la cumbre. Tendrás que atravesarlo. Quizás puedas encontrar algo útil por este sendero para tu enfrentamiento. ¿Qué haces\n"
     ]
    },
    {
     "name": "stdin",
     "output_type": "stream",
     "text": [
      ">  buscar en el lago\n"
     ]
    },
    {
     "name": "stdout",
     "output_type": "stream",
     "text": [
      "\n",
      "Desde la orilla, tu ojo experto en metales localiza exactamente dónde reposa el brazalete entre las rocas del fondo\n",
      "\n",
      "Tu búsqueda del dragón te lleva hacia una montaña, morada de la criatura según los rumores. La puedes ver a lo lejos, pero antes debes atravesar el bosque que rodea la cumbre. Tendrás que atravesarlo. Quizás puedas encontrar algo útil por este sendero para tu enfrentamiento. ¿Qué haces\n"
     ]
    },
    {
     "name": "stdin",
     "output_type": "stream",
     "text": [
      ">  quiero salir del bosque\n"
     ]
    },
    {
     "name": "stdout",
     "output_type": "stream",
     "text": [
      "\n",
      "Tu experiencia en forja te hace reconocer el brillo metálico en el fondo del lago cristalino. Podría ser una reliquia enana\n",
      "\n",
      "Tu búsqueda del dragón te lleva hacia una montaña, morada de la criatura según los rumores. La puedes ver a lo lejos, pero antes debes atravesar el bosque que rodea la cumbre. Tendrás que atravesarlo. Quizás puedas encontrar algo útil por este sendero para tu enfrentamiento. ¿Qué haces\n"
     ]
    },
    {
     "name": "stdin",
     "output_type": "stream",
     "text": [
      ">  buscar al dragón\n"
     ]
    },
    {
     "name": "stdout",
     "output_type": "stream",
     "text": [
      "\n",
      "Desde la orilla, tu ojo experto en metales localiza exactamente dónde reposa el brazalete entre las rocas del fondo\n",
      "\n",
      "Tu búsqueda del dragón te lleva hacia una montaña, morada de la criatura según los rumores. La puedes ver a lo lejos, pero antes debes atravesar el bosque que rodea la cumbre. Tendrás que atravesarlo. Quizás puedas encontrar algo útil por este sendero para tu enfrentamiento. ¿Qué haces\n"
     ]
    },
    {
     "name": "stdin",
     "output_type": "stream",
     "text": [
      ">  encontrar una salida\n"
     ]
    },
    {
     "name": "stdout",
     "output_type": "stream",
     "text": [
      "\n",
      "Tu instinto de montaña te guía hacia un sendero rocoso que asciende directamente hacia tu objetivo\n",
      "\n",
      "Tu búsqueda del dragón te lleva hacia una montaña, morada de la criatura según los rumores. La puedes ver a lo lejos, pero antes debes atravesar el bosque que rodea la cumbre. Tendrás que atravesarlo. Quizás puedas encontrar algo útil por este sendero para tu enfrentamiento. ¿Qué haces\n"
     ]
    },
    {
     "name": "stdin",
     "output_type": "stream",
     "text": [
      ">  buscar el camino\n"
     ]
    },
    {
     "name": "stdout",
     "output_type": "stream",
     "text": [
      "\n",
      "Desde la orilla, tu ojo experto en metales localiza exactamente dónde reposa el brazalete entre las rocas del fondo\n",
      "\n",
      "Tu búsqueda del dragón te lleva hacia una montaña, morada de la criatura según los rumores. La puedes ver a lo lejos, pero antes debes atravesar el bosque que rodea la cumbre. Tendrás que atravesarlo. Quizás puedas encontrar algo útil por este sendero para tu enfrentamiento. ¿Qué haces\n"
     ]
    },
    {
     "name": "stdin",
     "output_type": "stream",
     "text": [
      ">  quiero huir\n"
     ]
    },
    {
     "name": "stdout",
     "output_type": "stream",
     "text": [
      "\n",
      "Tu experiencia en forja te hace reconocer el brillo metálico en el fondo del lago cristalino. Podría ser una reliquia enana\n",
      "\n",
      "Tu búsqueda del dragón te lleva hacia una montaña, morada de la criatura según los rumores. La puedes ver a lo lejos, pero antes debes atravesar el bosque que rodea la cumbre. Tendrás que atravesarlo. Quizás puedas encontrar algo útil por este sendero para tu enfrentamiento. ¿Qué haces\n"
     ]
    },
    {
     "name": "stdin",
     "output_type": "stream",
     "text": [
      ">  quiero una salida\n"
     ]
    },
    {
     "name": "stdout",
     "output_type": "stream",
     "text": [
      "\n",
      "Tu instinto de montaña te guía hacia un sendero rocoso que asciende directamente hacia tu objetivo\n",
      "\n",
      "Tu búsqueda del dragón te lleva hacia una montaña, morada de la criatura según los rumores. La puedes ver a lo lejos, pero antes debes atravesar el bosque que rodea la cumbre. Tendrás que atravesarlo. Quizás puedas encontrar algo útil por este sendero para tu enfrentamiento. ¿Qué haces\n"
     ]
    },
    {
     "name": "stdin",
     "output_type": "stream",
     "text": [
      ">  quiero salir\n"
     ]
    },
    {
     "name": "stdout",
     "output_type": "stream",
     "text": [
      "\n",
      "Tu instinto de montaña te guía hacia un sendero rocoso que asciende directamente hacia tu objetivo\n",
      "\n",
      "Tu búsqueda del dragón te lleva hacia una montaña, morada de la criatura según los rumores. La puedes ver a lo lejos, pero antes debes atravesar el bosque que rodea la cumbre. Tendrás que atravesarlo. Quizás puedas encontrar algo útil por este sendero para tu enfrentamiento. ¿Qué haces\n"
     ]
    }
   ],
   "source": [
    "class GameEngine:\n",
    "    \n",
    "    def __init__(self):\n",
    "        self.model = SentenceTransformer('all-MiniLM-L6-v2')\n",
    "        self.character = None\n",
    "        self.scenes = {}\n",
    "        self.responses = {}\n",
    "        self.similarity_threshold = 0.3\n",
    "    \n",
    "    def set_character(self, c_sheet):\n",
    "        self.character = c_sheet\n",
    "    \n",
    "    def add_scene(self, scene_id, scene_text, context=None, required_race=None, required_profession=None):      \n",
    "        self.scenes[scene_id] = {\n",
    "            'text': scene_text,\n",
    "            'context': context,\n",
    "            'required_race': required_race,\n",
    "            'required_profession': required_profession,\n",
    "            'embedding': self.model.encode(scene_text)\n",
    "        }     \n",
    "        if scene_id not in self.responses:\n",
    "            self.responses[scene_id] = []\n",
    "    \n",
    "    def add_response(self, scene_id, input_pattern, response_text, race_mod=None, profession_mod=None):\n",
    "        response = {\n",
    "            'pattern': input_pattern,\n",
    "            'text': response_text,\n",
    "            'race_modifier': race_mod,\n",
    "            'profession_modifier': profession_mod,\n",
    "            'embedding': self.model.encode(input_pattern)\n",
    "        }\n",
    "        self.responses[scene_id].append(response)\n",
    "        \n",
    "    def find_best_response(self, user_input, current_scene_id):\n",
    "      \n",
    "        if current_scene_id not in self.responses:\n",
    "            return \"No hay respuestas disponibles para esta escena.\"    \n",
    "        \n",
    "        user_embedding = self.model.encode(user_input)\n",
    "        best_score = self.similarity_threshold\n",
    "        best_response = None\n",
    "        \n",
    "        for response in self.responses[current_scene_id]:\n",
    "            similarity = np.dot(user_embedding, response['embedding'])\n",
    "            \n",
    "            if response['race_modifier'] == self.character['Raza'].iloc[0]:\n",
    "                similarity += 0.2\n",
    "            if response['profession_modifier'] == self.character['Profesión'].iloc[0]:\n",
    "                similarity += 0.2\n",
    "            if similarity > best_score:\n",
    "                best_score = similarity\n",
    "                best_response = response\n",
    "                \n",
    "        return best_response['text'] if best_response else \"No entiendo qué quieres hacer.\"\n",
    "    \n",
    "    def load_scenes(self):\n",
    "        scenes_responses(self)\n",
    "        \n",
    "def play_game():\n",
    "    \n",
    "    game = GameEngine()\n",
    "    game.set_character(c_sheet)\n",
    "    game.load_scenes()\n",
    "    \n",
    "    current_scene_id = 1\n",
    "    \n",
    "    while True:\n",
    "        print(\"\\n\" + game.scenes[current_scene_id]['text'])\n",
    "        user_input = input(\"> \").lower()\n",
    "      \n",
    "        if user_input == \"salir\":\n",
    "            break\n",
    "          \n",
    "        response = game.find_best_response(user_input, current_scene_id)\n",
    "        print(\"\\n\" + response)\n",
    "      \n",
    "        #if current_scene_id == 1:\n",
    "            #current_scene_id = 2\n",
    "\n",
    "if __name__ == \"__main__\":\n",
    "    play_game()"
   ]
  },
  {
   "cell_type": "code",
   "execution_count": null,
   "id": "c4e51c55-f832-498d-b07d-44fe39f6c2cb",
   "metadata": {},
   "outputs": [],
   "source": []
  }
 ],
 "metadata": {
  "kernelspec": {
   "display_name": "Python (dnp)",
   "language": "python",
   "name": "dnp"
  },
  "language_info": {
   "codemirror_mode": {
    "name": "ipython",
    "version": 3
   },
   "file_extension": ".py",
   "mimetype": "text/x-python",
   "name": "python",
   "nbconvert_exporter": "python",
   "pygments_lexer": "ipython3",
   "version": "3.11.5"
  }
 },
 "nbformat": 4,
 "nbformat_minor": 5
}
