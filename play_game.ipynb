{
 "cells": [
  {
   "cell_type": "code",
   "execution_count": 1,
   "id": "e7be9372-b3b8-423d-9ae3-0fae8d2c8e74",
   "metadata": {
    "tags": []
   },
   "outputs": [
    {
     "name": "stderr",
     "output_type": "stream",
     "text": [
      "C:\\ProgramData\\anaconda3\\envs\\dnp\\Lib\\site-packages\\sentence_transformers\\cross_encoder\\CrossEncoder.py:13: TqdmExperimentalWarning: Using `tqdm.autonotebook.tqdm` in notebook mode. Use `tqdm.tqdm` instead to force console mode (e.g. in jupyter console)\n",
      "  from tqdm.autonotebook import tqdm, trange\n"
     ]
    }
   ],
   "source": [
    "import pandas as pd\n",
    "from sentence_transformers import SentenceTransformer\n",
    "import time\n",
    "import numpy as np\n",
    "\n",
    "from initial_functions import *\n",
    "from scene_function import scenes_responses\n",
    "from game_engine import *"
   ]
  },
  {
   "cell_type": "code",
   "execution_count": 3,
   "id": "f83600de-a6e0-48f4-9bdb-db2f577eb3af",
   "metadata": {
    "tags": []
   },
   "outputs": [
    {
     "name": "stdout",
     "output_type": "stream",
     "text": [
      "Las antiguas leyendas cobran vida mientras las sombras danzan en las paredes de piedra...\n",
      " \n",
      "¡Bienvenido, viajero, a Dungeons&Pythons! Una aventura en donde la magia y el peligro acechan en cada rincón.\n",
      "Estás a punto de embarcarte en una gesta que pondrá a prueba tu valentía y astucia.\n",
      " \n",
      "En estas tierras olvidadas, donde antiguos dragones duermen bajo montañas de oro\n",
      "y criaturas misteriosas acechan en la oscuridad, tu leyenda está a punto de comenzar.\n",
      " \n",
      "Como aventurero, tendrás la oportunidad de forjar tu destino, conquistar mazmorras\n",
      "inexploradas y ganar renombre en una tierra donde solo los más valientes sobreviven.\n",
      " \n",
      "Pero antes de que tu historia pueda ser cantada por los bardos en las tabernas...\n",
      "Antes de que tu nombre pueda ser susurrado con admiración en los reinos...\n",
      "Debes revelarme quién eres, intrépido héroe...\n",
      " \n"
     ]
    },
    {
     "name": "stdin",
     "output_type": "stream",
     "text": [
      "¿Cuál es tu nombre?:  Pufa\n",
      "Elige tu raza: human@, elf@, enan@:  enana\n",
      "Elige tu profesión: guerrer@, hechicer@, pícar@:  hechicera\n"
     ]
    },
    {
     "name": "stdout",
     "output_type": "stream",
     "text": [
      " \n",
      "Como Pufa, guardiana de los secretos rúnicos, tu magia proviene de las profundidades de la tierra misma. Los cristales mágicos responden a tu llamada, y los espíritus de la montaña te guían.\n",
      " \n",
      "El dragón puede dominar los cielos, pero tu magia de la tierra será su perdición...\n",
      "\n",
      "La caza del dragón negro te lleva hacia una montaña, en donde según rumores se encuentra la guarida de la temible criatura. Para escalar a la cumbre, primero tendrás que atravesar un bosque que la rodea. Puede que de camino encuentres algo útil para tu enfrentamiento... ¿Qué haces?\n"
     ]
    },
    {
     "name": "stdin",
     "output_type": "stream",
     "text": [
      ">  Buscar en el bosque algo que me sirva\n"
     ]
    },
    {
     "name": "stdout",
     "output_type": "stream",
     "text": [
      "\n",
      "Tu sabiduría en runas te hace detectar un lago sagrado donde un antiguo artefacto enano emite un resplandor mágico\n",
      "\n",
      "¿Qué más quieres hacer?\n"
     ]
    },
    {
     "name": "stdin",
     "output_type": "stream",
     "text": [
      ">  quiero coger ese artefacto enano\n"
     ]
    },
    {
     "name": "stdout",
     "output_type": "stream",
     "text": [
      "\n",
      "Al extraer el orbe del agua, las runas grabadas cobran vida bajo tu toque. Es el mítico orbe arcano, creado en la antigüedad para vencer dragones. Sus energías amplificarán tus hechizos en la batalla que se aproxima\n",
      "\n",
      "¿Qué más quieres hacer?\n"
     ]
    },
    {
     "name": "stdin",
     "output_type": "stream",
     "text": [
      ">  quiero enfrentarme al dragón\n"
     ]
    },
    {
     "name": "stdout",
     "output_type": "stream",
     "text": [
      "\n",
      "Al extraer el orbe del agua, las runas grabadas cobran vida bajo tu toque. Es el mítico orbe arcano, creado en la antigüedad para vencer dragones. Sus energías amplificarán tus hechizos en la batalla que se aproxima\n",
      "\n",
      "¿Qué más quieres hacer?\n"
     ]
    },
    {
     "name": "stdin",
     "output_type": "stream",
     "text": [
      ">  buscar la salida del bosque\n"
     ]
    },
    {
     "name": "stdout",
     "output_type": "stream",
     "text": [
      "\n",
      "Las runas ancestrales en las rocas te guían por un sendero seguro hacia la montaña. Cada marca confirma que te acercas al territorio del dragón\n",
      "\n",
      "Tras ascender por el sendero, llegas a la cima de la montaña. Ante ti se alza una inmensa cueva, y el suelo está cubierto de huesos calcinados. Un rugido estremecedor resuena desde el interior, y una enorme figura emerge entre las sombras. El dragón, con escamas como acero negro y ojos de fuego, se alza ante ti. ¿Qué haces?\n"
     ]
    },
    {
     "name": "stdin",
     "output_type": "stream",
     "text": [
      ">  quiero lanzar un hechizo al dragón\n"
     ]
    },
    {
     "name": "stdout",
     "output_type": "stream",
     "text": [
      "\n",
      "Tu acción no está contemplada por ahora en el juego. Sé más específico\n",
      "\n",
      "¿Qué más quieres hacer?\n"
     ]
    },
    {
     "name": "stdin",
     "output_type": "stream",
     "text": [
      ">  atacar al dragón\n"
     ]
    },
    {
     "name": "stdout",
     "output_type": "stream",
     "text": [
      "\n",
      "Canalizas el poder de las profundidades. El dragón responde con un rugido ensordecedor y una llamarada que detienes con magia rúnica. Tu conocimiento ancestral te susurra que deberás encontrar otro método para vencer.\n",
      "\n",
      "¿Qué más quieres hacer?\n"
     ]
    },
    {
     "name": "stdin",
     "output_type": "stream",
     "text": [
      ">  usar el artefacto arcano\n"
     ]
    },
    {
     "name": "stdout",
     "output_type": "stream",
     "text": [
      "\n",
      "Fusionas las runas antiguas con el poder del orbe, desatando la magia primordial de la montaña. La combinación de tu sabiduría rúnica y el artefacto crea un poder que ni siquiera el dragón puede resistir.\n",
      "\n",
      "¡Lo has conseguido! El ancestral dragón negro, terror de las Montañas del Crepúsculo, ha caído ante tu determinación y coraje. Sus últimos rugidos resuenan entre los picos nevados mientras su cuerpo se desvanece en cenizas llevadas por el viento. Tu nombre será recordado en canciones y leyendas mientras existan estrellas en el cielo y viento en las montañas.\n"
     ]
    }
   ],
   "source": [
    "if __name__ == \"__main__\":\n",
    "    c_sheet = intro()\n",
    "    play_game(c_sheet)"
   ]
  },
  {
   "cell_type": "code",
   "execution_count": null,
   "id": "6a9413bc-ace2-4de0-863f-c70e4bc1c49f",
   "metadata": {},
   "outputs": [],
   "source": []
  }
 ],
 "metadata": {
  "kernelspec": {
   "display_name": "Python (dnp)",
   "language": "python",
   "name": "dnp"
  },
  "language_info": {
   "codemirror_mode": {
    "name": "ipython",
    "version": 3
   },
   "file_extension": ".py",
   "mimetype": "text/x-python",
   "name": "python",
   "nbconvert_exporter": "python",
   "pygments_lexer": "ipython3",
   "version": "3.11.5"
  }
 },
 "nbformat": 4,
 "nbformat_minor": 5
}
