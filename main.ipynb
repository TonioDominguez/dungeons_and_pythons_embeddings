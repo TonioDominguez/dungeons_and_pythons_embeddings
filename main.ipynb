{
 "cells": [
  {
   "cell_type": "code",
   "execution_count": 1,
   "id": "bc717a72-98ec-4e18-8915-75028323ddc2",
   "metadata": {
    "tags": []
   },
   "outputs": [],
   "source": [
    "import pandas as pd\n",
    "import numpy as np\n",
    "import time\n",
    "\n",
    "from functions import *\n",
    "\n",
    "## Settings\n",
    "pd.set_option('display.max_columns', None) # display all columns\n",
    "import warnings\n",
    "warnings.filterwarnings('ignore') # ignore warnings"
   ]
  },
  {
   "cell_type": "code",
   "execution_count": 2,
   "id": "a12252ce-4dbf-4b50-9766-8430c1886ba9",
   "metadata": {
    "tags": []
   },
   "outputs": [
    {
     "name": "stdin",
     "output_type": "stream",
     "text": [
      "¿Cuál es tu nombre?:  Olga\n",
      "Elige tu raza: human@, elf@, enan@:  elfa\n",
      "Elige tu profesión: guerrer@, hechicer@, pícar@:  pícara\n"
     ]
    }
   ],
   "source": [
    "name = get_name()\n",
    "race = get_race(races)\n",
    "profession = get_profession(professions)\n",
    "weapon = get_weapon(profession)"
   ]
  },
  {
   "cell_type": "code",
   "execution_count": 3,
   "id": "a36cd1df-281b-4b95-9ba1-3cdd2b2385dd",
   "metadata": {
    "tags": []
   },
   "outputs": [],
   "source": [
    "character = {\"Nombre\":name, \n",
    "             \"Raza\":race,\n",
    "             \"Profesión\":profession,\n",
    "             \"Arma\":weapon\n",
    "            }"
   ]
  },
  {
   "cell_type": "code",
   "execution_count": 4,
   "id": "ac904c74-a142-4788-a4ad-fd4c1eacf5f7",
   "metadata": {
    "tags": []
   },
   "outputs": [],
   "source": [
    "c_sheet = pd.DataFrame([character])"
   ]
  },
  {
   "cell_type": "code",
   "execution_count": 5,
   "id": "de0034be-2815-4c3b-8f7b-86108229cd4b",
   "metadata": {
    "tags": []
   },
   "outputs": [
    {
     "data": {
      "text/html": [
       "<div>\n",
       "<style scoped>\n",
       "    .dataframe tbody tr th:only-of-type {\n",
       "        vertical-align: middle;\n",
       "    }\n",
       "\n",
       "    .dataframe tbody tr th {\n",
       "        vertical-align: top;\n",
       "    }\n",
       "\n",
       "    .dataframe thead th {\n",
       "        text-align: right;\n",
       "    }\n",
       "</style>\n",
       "<table border=\"1\" class=\"dataframe\">\n",
       "  <thead>\n",
       "    <tr style=\"text-align: right;\">\n",
       "      <th></th>\n",
       "      <th>Nombre</th>\n",
       "      <th>Raza</th>\n",
       "      <th>Profesión</th>\n",
       "      <th>Arma</th>\n",
       "    </tr>\n",
       "  </thead>\n",
       "  <tbody>\n",
       "    <tr>\n",
       "      <th>0</th>\n",
       "      <td>Olga</td>\n",
       "      <td>elfa</td>\n",
       "      <td>pícara</td>\n",
       "      <td>arco y flechas</td>\n",
       "    </tr>\n",
       "  </tbody>\n",
       "</table>\n",
       "</div>"
      ],
      "text/plain": [
       "  Nombre  Raza Profesión            Arma\n",
       "0   Olga  elfa    pícara  arco y flechas"
      ]
     },
     "execution_count": 5,
     "metadata": {},
     "output_type": "execute_result"
    }
   ],
   "source": [
    "c_sheet"
   ]
  },
  {
   "cell_type": "code",
   "execution_count": 6,
   "id": "617fc926-174d-4dec-b561-147221e80c01",
   "metadata": {},
   "outputs": [
    {
     "name": "stdout",
     "output_type": "stream",
     "text": [
      " \n",
      "Te conocen como Olga, la danza de las sombras del bosque. Tu gracia y sigilo son incomparables. Te Mueves como la brisa entre las hojas, invisible para aquellos que no saben dónde mirar.\n",
      " \n",
      "El dragón nunca verá venir tu golpe mortal desde las sombras del bosque...\n"
     ]
    }
   ],
   "source": [
    "presentation(c_sheet)"
   ]
  },
  {
   "cell_type": "code",
   "execution_count": null,
   "id": "63199ff6-82c2-48b0-9e5d-e2b132b8f2c9",
   "metadata": {},
   "outputs": [],
   "source": []
  }
 ],
 "metadata": {
  "kernelspec": {
   "display_name": "Python (dnp)",
   "language": "python",
   "name": "dnp"
  },
  "language_info": {
   "codemirror_mode": {
    "name": "ipython",
    "version": 3
   },
   "file_extension": ".py",
   "mimetype": "text/x-python",
   "name": "python",
   "nbconvert_exporter": "python",
   "pygments_lexer": "ipython3",
   "version": "3.11.5"
  }
 },
 "nbformat": 4,
 "nbformat_minor": 5
}
